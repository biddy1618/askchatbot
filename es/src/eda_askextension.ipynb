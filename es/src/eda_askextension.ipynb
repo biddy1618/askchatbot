{
 "cells": [
  {
   "cell_type": "markdown",
   "metadata": {},
   "source": [
    "# Ask Extension data EDA"
   ]
  },
  {
   "cell_type": "code",
   "execution_count": 2,
   "metadata": {},
   "outputs": [],
   "source": [
    "import pandas as pd\n",
    "import numpy as np\n",
    "\n",
    "import json\n",
    "import os\n",
    "\n",
    "from string import punctuation as pn"
   ]
  },
  {
   "cell_type": "code",
   "execution_count": 12,
   "metadata": {},
   "outputs": [],
   "source": [
    "PATH = '../data/askextension/'\n",
    "FILE_NAMES = [PATH + f for f in sorted(os.listdir(PATH))]"
   ]
  },
  {
   "cell_type": "markdown",
   "metadata": {},
   "source": [
    "## Data\n",
    "\n",
    "Data constists 4 files:\n",
    "- 2012-2014.json\n",
    "- 2014-2016.json\n",
    "- 2016-2018.json\n",
    "- 2018-2020.json"
   ]
  },
  {
   "cell_type": "markdown",
   "metadata": {},
   "source": [
    "And looks following way:"
   ]
  },
  {
   "cell_type": "code",
   "execution_count": 19,
   "metadata": {},
   "outputs": [
    {
     "name": "stdout",
     "output_type": "stream",
     "text": [
      "{\n",
      "  \"faq-id\": 1,\n",
      "  \"title\": \"When can I plant blue spruce trees in Colorado? #109900\",\n",
      "  \"created\": \"2012-12-03 15:53:47\",\n",
      "  \"updated\": \"2012-12-03 17:47:21\",\n",
      "  \"tags\": [\n",
      "    \"trees and shrubs\"\n",
      "  ],\n",
      "  \"state\": \"Colorado\",\n",
      "  \"county\": \"El Paso County\",\n",
      "  \"question\": \"I need to plant two blue spruce trees that are currently in 24\\\" diameter plastic containers with drain holes in the bottom sides.\\n\\nLocation: northeast side of Colorado Springs.\\n\\nThese trees are currently outside on the patio and susceptible to the wind and sun. The trees were watered this past Saturday and seem to be healthy.\\n\\nQuestion: Can these trees be planted now? Currently the soil is not frozen and night time temps are 35 to 40 degrees.\\n\\nI have downloaded and read CMG GardenNotes #633 as a reference.\\n\\nAny advice would be greatly appreciated. \",\n",
      "  \"answer\": {\n",
      "    \"1\": {\n",
      "      \"response\": \"Jerry, \\nyou can plant them now (a) OR temporarily \\\"plant\\\" them, still in containers, so that roots have some insulation from cold (b).\\n\\n(a) if you know where you want these trees to be planted (check for overhead utility lines AND for underground utility lines before digging by calling 8-1-1), dig holes 2-3X as wide as rootball and as deep as the rootball or slightly shallower.  To excavated soil, add organic matter (compost, shhagnum peat, etc) at 20% by volume.  Mix thoroughly to homogenize.    \\nInspect rootball for circling roots and tease them out of circling pattern if possible.   Plant tree so that top of rootball is at or a couple inches above grade.   Backfill with amended excavated soil.  Water well and add more soil where settling occurs.\\nMulch planting area with 2-3 inches of wood chips or similar mulch.   Water again to settle mulch.    Water again in a week and continue watering weekly until there is cold and snowcover.  Water again if weather warms, snowcover  melts and soils begin to dry out.\\n\\n(b) to \\\"store\\\" potted spruces temporarily in soil area (N or E exposure better than S or W), dig holes 1.5X as wide and same depth as rootball. Sink pots into holes and backfill.  Mulch surface of rootball in pot with straw or woodchips.   Water rootballs in pots and repeat whenever weather has been warm and there is no snowcover.   Plant spruces in permanent spot next April as per (a) above.\",\n",
      "      \"author\": \"Robert Cox\"\n",
      "    }\n",
      "  }\n",
      "}\n"
     ]
    }
   ],
   "source": [
    "with open(FILE_NAMES[0]) as f:\n",
    "    f = json.load(f)\n",
    "    print(json.dumps(f[0], indent = 2))"
   ]
  },
  {
   "cell_type": "markdown",
   "metadata": {},
   "source": [
    "It is a list of dictionary objects with following fields:\n",
    "- `faq-id` - ID of the ticket\n",
    "- `title` - title of the ticket along ID of the ticket (__other__ ID)\n",
    "- `created` - ticket creating date\n",
    "- `updated` - ticket last update date\n",
    "- `tags` - list of tags\n",
    "- `state` - state ticket was created in\n",
    "- `county` - county ticket was created in\n",
    "- `question` - question that has been posted\n",
    "- `answer` - response lists presented in numbered dictionary data type"
   ]
  },
  {
   "cell_type": "markdown",
   "metadata": {},
   "source": [
    "## ETL\n",
    "\n",
    "Following transformations are performed:\n",
    "- merge source into single JSON file\n",
    "- filter out ticket from all states except _California_\n",
    "- retrive ticket ID from title\n",
    "- create URL of ticket\n",
    "- clean long text columns - `title`, `question`, `answer`\n",
    "- create new column out of `title` and `question`\n",
    "- remove tickets that have less than 3 words in `title` and `quesiton` combined\n",
    "- limit the number of characters to 300 for `title`, `question`, `answer` columns\n",
    "\n",
    "Save result to ES JSON format to be injected."
   ]
  },
  {
   "cell_type": "markdown",
   "metadata": {},
   "source": [
    "## EDA\n",
    "\n",
    "TO BE DONE"
   ]
  }
 ],
 "metadata": {
  "interpreter": {
   "hash": "362d59c0cf6dbeab3abcbfc8685ab4c27b49db463d853836c10c4cab9bbbe211"
  },
  "kernelspec": {
   "display_name": "Python 3.8.0 ('askchatbot-dev')",
   "language": "python",
   "name": "python3"
  },
  "language_info": {
   "codemirror_mode": {
    "name": "ipython",
    "version": 3
   },
   "file_extension": ".py",
   "mimetype": "text/x-python",
   "name": "python",
   "nbconvert_exporter": "python",
   "pygments_lexer": "ipython3",
   "version": "3.8.0"
  },
  "orig_nbformat": 4
 },
 "nbformat": 4,
 "nbformat_minor": 2
}
