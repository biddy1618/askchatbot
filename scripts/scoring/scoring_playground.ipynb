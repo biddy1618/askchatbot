{
 "cells": [
  {
   "cell_type": "code",
   "execution_count": 7,
   "metadata": {},
   "outputs": [
    {
     "name": "stdout",
     "output_type": "stream",
     "text": [
      "[{'recipient_id': '2', 'text': 'Here are my top results:'}, {'recipient_id': '2', 'custom': {'text': 'Here are my top results:', 'payload': 'collapsible', 'data': [{'title': '<p>1)<em>Peach Leaf Curl</em></br>(source: <a href=\"http://ipm.ucanr.edu/PMG/PESTNOTES/pn7426.html?src=exchbt\" target=\"_blank\">pestsIPM</a>)</p>', 'description': '<p><strong>Details</strong>: Peach leaf curl, also known as leaf curl, is a disease caused by the fungus Taphrina deformans. Peac</p></br><p><strong>Development</strong>: Peach leaf curl first appears in spring as reddish areas on developing leaves. These areas become th</p></br><p><strong>Management</strong>: To prevent peach leaf curl, use resistant peach and nectarine varieties where possible. (See the Res</p></br>'}, {'title': '<p>2)<em>Taphrina leaf curl</em></br>(source: <a href=\"http://ipm.ucanr.edu/PMG/GARDEN/PLANTS/DISEASES/taphlfcrl.html?src=exchbt\" target=\"_blank\">pestsDiseases</a>)</p>', 'description': '<p><strong>Details</strong>: Taphrina spp. affect many different tree species. For example, the oak leaf blister fungus, Taphrina</p></br><p><strong>Identification</strong>: Leaves on infected trees become galled, curled, and may drop prematurely. Bulges may appear on upper</p></br><p><strong>Development</strong>: The fungi overwinter as spores (ascospores and conidia) in bark cracks and under bud scales. In the </p></br><p><strong>Management</strong>: Provide trees with proper cultural care to keep them vigorous. On oaks no other control is generally</p></br>'}, {'title': '<p>3)<em>Wheat curl mite</em></br>(source: <a href=\"http://ipm.ucanr.edu/PMG/GARDEN/VEGES/PESTS/wheatcurlmite.html?src=exchbt\" target=\"_blank\">pestsDiseases</a>)</p>', 'description': '<p><strong>Details</strong>: Wheat curl mites are microscopic white, wormlike organisms about 1/4 mm long. The legs are very smal</p></br><p><strong>Damage</strong>: This mite is primarily a pest of stored bulbs; its feeding causes stored onions and garlic to desicc</p></br><p><strong>Management</strong>: Gardens rotated into onions or garlic from corn may have higher levels of wheat curl mites. Flood ir</p></br>'}]}}, {'recipient_id': '2', 'text': 'Did that answer your question? If not, can you give me some more information (like plant name, plant type, plant part, damage caused to plant, pest name or description, location of pest).', 'buttons': [{'title': 'Yes, thank you!', 'payload': '/intent_affirm'}, {'title': 'No. I’d like to provide additional details.', 'payload': '/intent_deny'}, {'title': 'No. I’d like to ask different question.', 'payload': '/intent_affirm'}, {'title': \"No, I'd like to speak to an expert.\", 'payload': '/intent_request_expert'}]}]\n"
     ]
    }
   ],
   "source": [
    "import requests\n",
    "import random\n",
    "import json\n",
    "import tqdm\n",
    "\n",
    "url     = 'https://dev.api.chat.ask.eduworks.com/webhooks/rest/webhook'\n",
    "DATA    = {\n",
    "    \"message\"   : \"How do you treat peach leaf curl?\",\n",
    "    \"sender\"    : str(random.randint(0, 9))\n",
    "}\n",
    "\n",
    "r = requests.post(url, json = DATA)\n",
    "\n",
    "print(json.loads(r.text))"
   ]
  },
  {
   "cell_type": "code",
   "execution_count": 16,
   "metadata": {},
   "outputs": [
    {
     "data": {
      "text/plain": [
       "[{'recipient_id': '2', 'text': 'Here are my top results:'},\n",
       " {'recipient_id': '2',\n",
       "  'custom': {'text': 'Here are my top results:',\n",
       "   'payload': 'collapsible',\n",
       "   'data': [{'title': '<p>1)<em>Peach Leaf Curl</em></br>(source: <a href=\"http://ipm.ucanr.edu/PMG/PESTNOTES/pn7426.html?src=exchbt\" target=\"_blank\">pestsIPM</a>)</p>',\n",
       "     'description': '<p><strong>Details</strong>: Peach leaf curl, also known as leaf curl, is a disease caused by the fungus Taphrina deformans. Peac</p></br><p><strong>Development</strong>: Peach leaf curl first appears in spring as reddish areas on developing leaves. These areas become th</p></br><p><strong>Management</strong>: To prevent peach leaf curl, use resistant peach and nectarine varieties where possible. (See the Res</p></br>'},\n",
       "    {'title': '<p>2)<em>Taphrina leaf curl</em></br>(source: <a href=\"http://ipm.ucanr.edu/PMG/GARDEN/PLANTS/DISEASES/taphlfcrl.html?src=exchbt\" target=\"_blank\">pestsDiseases</a>)</p>',\n",
       "     'description': '<p><strong>Details</strong>: Taphrina spp. affect many different tree species. For example, the oak leaf blister fungus, Taphrina</p></br><p><strong>Identification</strong>: Leaves on infected trees become galled, curled, and may drop prematurely. Bulges may appear on upper</p></br><p><strong>Development</strong>: The fungi overwinter as spores (ascospores and conidia) in bark cracks and under bud scales. In the </p></br><p><strong>Management</strong>: Provide trees with proper cultural care to keep them vigorous. On oaks no other control is generally</p></br>'},\n",
       "    {'title': '<p>3)<em>Wheat curl mite</em></br>(source: <a href=\"http://ipm.ucanr.edu/PMG/GARDEN/VEGES/PESTS/wheatcurlmite.html?src=exchbt\" target=\"_blank\">pestsDiseases</a>)</p>',\n",
       "     'description': '<p><strong>Details</strong>: Wheat curl mites are microscopic white, wormlike organisms about 1/4 mm long. The legs are very smal</p></br><p><strong>Damage</strong>: This mite is primarily a pest of stored bulbs; its feeding causes stored onions and garlic to desicc</p></br><p><strong>Management</strong>: Gardens rotated into onions or garlic from corn may have higher levels of wheat curl mites. Flood ir</p></br>'}]}},\n",
       " {'recipient_id': '2',\n",
       "  'text': 'Did that answer your question? If not, can you give me some more information (like plant name, plant type, plant part, damage caused to plant, pest name or description, location of pest).',\n",
       "  'buttons': [{'title': 'Yes, thank you!', 'payload': '/intent_affirm'},\n",
       "   {'title': 'No. I’d like to provide additional details.',\n",
       "    'payload': '/intent_deny'},\n",
       "   {'title': 'No. I’d like to ask different question.',\n",
       "    'payload': '/intent_affirm'},\n",
       "   {'title': \"No, I'd like to speak to an expert.\",\n",
       "    'payload': '/intent_request_expert'}]}]"
      ]
     },
     "execution_count": 16,
     "metadata": {},
     "output_type": "execute_result"
    }
   ],
   "source": [
    "json.loads(r.text)"
   ]
  },
  {
   "cell_type": "code",
   "execution_count": 8,
   "metadata": {},
   "outputs": [],
   "source": [
    "import random\n",
    "import re\n",
    "\n",
    "sender = random.randint(0, 9)\n",
    "\n",
    "URL     = 'https://dev.api.chat.ask.eduworks.com/webhooks/rest/webhook'\n",
    "DATA    = {\n",
    "    \"message\"   : \"\", \n",
    "    \"sender\"    : str(sender)\n",
    "}\n",
    "def run_tests(messages):\n",
    "    results = []\n",
    "\n",
    "    for m, _ in tqdm.tqdm(messages):\n",
    "        DATA['message'] = m\n",
    "        r = requests.post(URL, json = DATA)\n",
    "        r = json.loads(r.text)\n",
    "        \n",
    "        assert isinstance(r, list)\n",
    "        assert len(r) >= 3\n",
    "        r = r[2]\n",
    "\n",
    "        assert 'custom' in r\n",
    "        r = r['custom']\n",
    "\n",
    "        assert 'data' in r\n",
    "        r = r['data']\n",
    "\n",
    "        result = []\n",
    "        for e in r:\n",
    "            title   = re.findall(\"<em>(.*?)</em>\"           , e['title'])[0]\n",
    "            link    = re.findall(\"href=[\\\"\\'](.*?)[\\\"\\']\"   , e['title'])[0]\n",
    "            result.append((title, link))\n",
    "        \n",
    "        results.append(result)\n",
    "\n",
    "        DATA['message'] = '/intent_affirm'\n",
    "        r = requests.post(URL, json = DATA)\n",
    "        r = json.loads(r.text)\n",
    "\n",
    "        assert len(r) == 1\n",
    "        r = r[0]\n",
    "\n",
    "        assert 'text' in r\n",
    "        r = r['text']\n",
    "\n",
    "        assert 'Anything else I can help with?' == r\n",
    "\n",
    "    return results\n"
   ]
  },
  {
   "cell_type": "code",
   "execution_count": 9,
   "metadata": {},
   "outputs": [
    {
     "data": {
      "text/html": [
       "<div>\n",
       "<style scoped>\n",
       "    .dataframe tbody tr th:only-of-type {\n",
       "        vertical-align: middle;\n",
       "    }\n",
       "\n",
       "    .dataframe tbody tr th {\n",
       "        vertical-align: top;\n",
       "    }\n",
       "\n",
       "    .dataframe thead th {\n",
       "        text-align: right;\n",
       "    }\n",
       "</style>\n",
       "<table border=\"1\" class=\"dataframe\">\n",
       "  <thead>\n",
       "    <tr style=\"text-align: right;\">\n",
       "      <th></th>\n",
       "      <th>request</th>\n",
       "      <th>answer</th>\n",
       "    </tr>\n",
       "  </thead>\n",
       "  <tbody>\n",
       "    <tr>\n",
       "      <th>44</th>\n",
       "      <td>How do I deter deer from my garden?</td>\n",
       "      <td>[http://ipm.ucanr.edu/PMG/PESTNOTES/pn74117.html]</td>\n",
       "    </tr>\n",
       "    <tr>\n",
       "      <th>8</th>\n",
       "      <td>There are roof rats getting into my home. What...</td>\n",
       "      <td>[http://ipm.ucanr.edu/PMG/PESTNOTES/pn74106.html]</td>\n",
       "    </tr>\n",
       "    <tr>\n",
       "      <th>34</th>\n",
       "      <td>If my palm tree has little black spots on it d...</td>\n",
       "      <td>[http://ipm.ucanr.edu/PMG/PESTNOTES/pn74148.html]</td>\n",
       "    </tr>\n",
       "    <tr>\n",
       "      <th>12</th>\n",
       "      <td>What does rust on roses look like?</td>\n",
       "      <td>[http://ipm.ucanr.edu/PMG/PESTNOTES/pn7463.html]</td>\n",
       "    </tr>\n",
       "    <tr>\n",
       "      <th>36</th>\n",
       "      <td>How do you set a gopher trap?</td>\n",
       "      <td>[http://ipm.ucanr.edu/PMG/PESTNOTES/pn7433.htm...</td>\n",
       "    </tr>\n",
       "    <tr>\n",
       "      <th>30</th>\n",
       "      <td>Can I plant vegetables in the shade?</td>\n",
       "      <td>[http://ipm.ucanr.edu/PMG/GARDEN/VEGES/CULTURA...</td>\n",
       "    </tr>\n",
       "    <tr>\n",
       "      <th>14</th>\n",
       "      <td>There are tons of little green bugs on my rose...</td>\n",
       "      <td>[http://ipm.ucanr.edu/PMG/PESTNOTES/pn7404.htm...</td>\n",
       "    </tr>\n",
       "    <tr>\n",
       "      <th>22</th>\n",
       "      <td>I planted seeds but they never came up. What h...</td>\n",
       "      <td>[http://ipm.ucanr.edu/PMG/PESTNOTES/pn74132.html]</td>\n",
       "    </tr>\n",
       "    <tr>\n",
       "      <th>38</th>\n",
       "      <td>What do scale insects look like?</td>\n",
       "      <td>[http://ipm.ucanr.edu/PMG/PESTNOTES/pn7408.html]</td>\n",
       "    </tr>\n",
       "    <tr>\n",
       "      <th>18</th>\n",
       "      <td>What is biting me in bed?</td>\n",
       "      <td>[http://ipm.ucanr.edu/PMG/PESTNOTES/pn7454.htm...</td>\n",
       "    </tr>\n",
       "  </tbody>\n",
       "</table>\n",
       "</div>"
      ],
      "text/plain": [
       "                                              request  \\\n",
       "44                How do I deter deer from my garden?   \n",
       "8   There are roof rats getting into my home. What...   \n",
       "34  If my palm tree has little black spots on it d...   \n",
       "12                 What does rust on roses look like?   \n",
       "36                      How do you set a gopher trap?   \n",
       "30               Can I plant vegetables in the shade?   \n",
       "14  There are tons of little green bugs on my rose...   \n",
       "22  I planted seeds but they never came up. What h...   \n",
       "38                   What do scale insects look like?   \n",
       "18                          What is biting me in bed?   \n",
       "\n",
       "                                               answer  \n",
       "44  [http://ipm.ucanr.edu/PMG/PESTNOTES/pn74117.html]  \n",
       "8   [http://ipm.ucanr.edu/PMG/PESTNOTES/pn74106.html]  \n",
       "34  [http://ipm.ucanr.edu/PMG/PESTNOTES/pn74148.html]  \n",
       "12   [http://ipm.ucanr.edu/PMG/PESTNOTES/pn7463.html]  \n",
       "36  [http://ipm.ucanr.edu/PMG/PESTNOTES/pn7433.htm...  \n",
       "30  [http://ipm.ucanr.edu/PMG/GARDEN/VEGES/CULTURA...  \n",
       "14  [http://ipm.ucanr.edu/PMG/PESTNOTES/pn7404.htm...  \n",
       "22  [http://ipm.ucanr.edu/PMG/PESTNOTES/pn74132.html]  \n",
       "38   [http://ipm.ucanr.edu/PMG/PESTNOTES/pn7408.html]  \n",
       "18  [http://ipm.ucanr.edu/PMG/PESTNOTES/pn7454.htm...  "
      ]
     },
     "execution_count": 9,
     "metadata": {},
     "output_type": "execute_result"
    }
   ],
   "source": [
    "import pandas as pd\n",
    "\n",
    "df = pd.read_csv('./data/UCIPM_Questions_2020_08_19.csv')\n",
    "\n",
    "df['request'] = df['Question'   ].apply(lambda x: x.split('\\n')[0]              )\n",
    "df['answer' ] = df['URL'        ].apply(lambda x: x.split('\\n')                 )\n",
    "df['answer' ] = df['answer'     ].apply(lambda x: [x1.split('?')[0] for x1 in x])\n",
    "\n",
    "df = df[['request', 'answer']]\n",
    "df.sample(10)"
   ]
  },
  {
   "cell_type": "code",
   "execution_count": 10,
   "metadata": {},
   "outputs": [
    {
     "name": "stderr",
     "output_type": "stream",
     "text": [
      "  0%|          | 0/50 [00:01<?, ?it/s]\n"
     ]
    },
    {
     "ename": "AssertionError",
     "evalue": "",
     "output_type": "error",
     "traceback": [
      "\u001b[0;31m---------------------------------------------------------------------------\u001b[0m",
      "\u001b[0;31mAssertionError\u001b[0m                            Traceback (most recent call last)",
      "\u001b[0;32m/tmp/ipykernel_166453/1121238412.py\u001b[0m in \u001b[0;36m<module>\u001b[0;34m\u001b[0m\n\u001b[1;32m      1\u001b[0m \u001b[0mmessages\u001b[0m    \u001b[0;34m=\u001b[0m \u001b[0mdf\u001b[0m\u001b[0;34m.\u001b[0m\u001b[0mvalues\u001b[0m\u001b[0;34m.\u001b[0m\u001b[0mtolist\u001b[0m\u001b[0;34m(\u001b[0m\u001b[0;34m)\u001b[0m\u001b[0;34m\u001b[0m\u001b[0;34m\u001b[0m\u001b[0m\n\u001b[1;32m      2\u001b[0m \u001b[0;34m\u001b[0m\u001b[0m\n\u001b[0;32m----> 3\u001b[0;31m \u001b[0mresults\u001b[0m     \u001b[0;34m=\u001b[0m \u001b[0mrun_tests\u001b[0m\u001b[0;34m(\u001b[0m\u001b[0mmessages\u001b[0m\u001b[0;34m)\u001b[0m\u001b[0;34m\u001b[0m\u001b[0;34m\u001b[0m\u001b[0m\n\u001b[0m",
      "\u001b[0;32m/tmp/ipykernel_166453/1112545421.py\u001b[0m in \u001b[0;36mrun_tests\u001b[0;34m(messages)\u001b[0m\n\u001b[1;32m     21\u001b[0m         \u001b[0mr\u001b[0m \u001b[0;34m=\u001b[0m \u001b[0mr\u001b[0m\u001b[0;34m[\u001b[0m\u001b[0;36m2\u001b[0m\u001b[0;34m]\u001b[0m\u001b[0;34m\u001b[0m\u001b[0;34m\u001b[0m\u001b[0m\n\u001b[1;32m     22\u001b[0m \u001b[0;34m\u001b[0m\u001b[0m\n\u001b[0;32m---> 23\u001b[0;31m         \u001b[0;32massert\u001b[0m \u001b[0;34m'custom'\u001b[0m \u001b[0;32min\u001b[0m \u001b[0mr\u001b[0m\u001b[0;34m\u001b[0m\u001b[0;34m\u001b[0m\u001b[0m\n\u001b[0m\u001b[1;32m     24\u001b[0m         \u001b[0mr\u001b[0m \u001b[0;34m=\u001b[0m \u001b[0mr\u001b[0m\u001b[0;34m[\u001b[0m\u001b[0;34m'custom'\u001b[0m\u001b[0;34m]\u001b[0m\u001b[0;34m\u001b[0m\u001b[0;34m\u001b[0m\u001b[0m\n\u001b[1;32m     25\u001b[0m \u001b[0;34m\u001b[0m\u001b[0m\n",
      "\u001b[0;31mAssertionError\u001b[0m: "
     ]
    }
   ],
   "source": [
    "messages    = df.values.tolist()\n",
    "\n",
    "results     = run_tests(messages)"
   ]
  },
  {
   "cell_type": "code",
   "execution_count": 33,
   "metadata": {},
   "outputs": [],
   "source": [
    "scores = []\n",
    "for i, r in enumerate(results):\n",
    "    answers = messages[i][1]\n",
    "    topn = [False, False, False]\n",
    "    for i1, r1 in enumerate(r):\n",
    "        if r1[1].split('?')[0] in answers:\n",
    "            if i1 == 0:\n",
    "                topn[0] = True\n",
    "            if i1 < 3:\n",
    "                topn[1] = True\n",
    "            topn[2] = True\n",
    "    scores.append(topn)"
   ]
  },
  {
   "cell_type": "code",
   "execution_count": 34,
   "metadata": {},
   "outputs": [
    {
     "name": "stdout",
     "output_type": "stream",
     "text": [
      "Out of 50 results, following correct:\n",
      "Top 1: 24  (48.00%)\n",
      "Top 3: 28  (56.00%)\n",
      "Top 5: 32  (64.00%)\n"
     ]
    }
   ],
   "source": [
    "top1 = 0\n",
    "top3 = 0\n",
    "top5 = 0\n",
    "for topn in scores:\n",
    "    if topn[0]: top1 += 1\n",
    "    if topn[1]: top3 += 1\n",
    "    if topn[2]: top5 += 1\n",
    "\n",
    "print(f'Out of {len(results)} results, following correct:'  )\n",
    "print(f'Top 1: {top1:<3d} ({top1/len(results) * 100:<.2f}%)')\n",
    "print(f'Top 3: {top3:<3d} ({top3/len(results) * 100:<.2f}%)')\n",
    "print(f'Top 5: {top5:<3d} ({top5/len(results) * 100:<.2f}%)')"
   ]
  },
  {
   "cell_type": "code",
   "execution_count": 1,
   "metadata": {},
   "outputs": [],
   "source": []
  },
  {
   "cell_type": "code",
   "execution_count": null,
   "metadata": {},
   "outputs": [],
   "source": []
  }
 ],
 "metadata": {
  "interpreter": {
   "hash": "362d59c0cf6dbeab3abcbfc8685ab4c27b49db463d853836c10c4cab9bbbe211"
  },
  "kernelspec": {
   "display_name": "Python 3.8.12 ('askchatbot-dev')",
   "language": "python",
   "name": "python3"
  },
  "language_info": {
   "codemirror_mode": {
    "name": "ipython",
    "version": 3
   },
   "file_extension": ".py",
   "mimetype": "text/x-python",
   "name": "python",
   "nbconvert_exporter": "python",
   "pygments_lexer": "ipython3",
   "version": "3.8.12"
  },
  "orig_nbformat": 4
 },
 "nbformat": 4,
 "nbformat_minor": 2
}
