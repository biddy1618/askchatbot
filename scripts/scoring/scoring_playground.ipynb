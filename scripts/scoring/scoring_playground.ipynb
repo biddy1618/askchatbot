{
 "cells": [
  {
   "cell_type": "markdown",
   "metadata": {},
   "source": [
    "# Scoring script playground"
   ]
  },
  {
   "cell_type": "markdown",
   "metadata": {},
   "source": [
    "## Main script for running queries"
   ]
  },
  {
   "cell_type": "code",
   "execution_count": null,
   "metadata": {},
   "outputs": [],
   "source": [
    "import requests\n",
    "import random\n",
    "\n",
    "# URL     = 'https://dev.api.chat.ask.eduworks.com/webhooks/rest/webhook'\n",
    "URL     = 'http://localhost:5005/webhooks/rest/webhook'\n",
    "\n",
    "DATA    = {\n",
    "    \"message\"   : \"How do you treat peach leaf curl?\",\n",
    "    \"sender\"    : str(random.randint(0, 100000))\n",
    "}\n",
    "\n",
    "r = requests.post(URL, json = DATA)\n",
    "\n",
    "if r.status_code == 200:\n",
    "    print(r.json())\n",
    "else:\n",
    "    print('Service unavailable')"
   ]
  },
  {
   "cell_type": "code",
   "execution_count": null,
   "metadata": {},
   "outputs": [],
   "source": [
    "import random\n",
    "\n",
    "sender = random.randint(0, 100000)\n",
    "\n",
    "# URL     = 'https://dev.api.chat.ask.eduworks.com/webhooks/rest/webhook'\n",
    "URL     = 'http://localhost:5005/webhooks/rest/webhook'\n",
    "DATA    = {\n",
    "    \"message\"   : \"\", \n",
    "    \"sender\"    : str(sender)\n",
    "}\n",
    "def run_tests(questions):\n",
    "    \n",
    "    results = []\n",
    "    for i, q in enumerate(questions):\n",
    "\n",
    "        DATA['message'] = q\n",
    "        try:\n",
    "            response = requests.post(URL, json = DATA)\n",
    "            if response.status_code != 200:\n",
    "                print(f'Error: Service at {URL} is unavailable, exit.')\n",
    "                exit()\n",
    "\n",
    "        except Exception as e:\n",
    "            print(f'Error: Exception at posting question - \"{q}\", exit. {type(e).__name__}: \"{e}\".')\n",
    "            exit()\n",
    "\n",
    "        \n",
    "        try:\n",
    "            r = response.json()\n",
    "            success = False\n",
    "            for r1 in r:\n",
    "                if 'custom' in r1:\n",
    "                    success = True\n",
    "                    r = r1['custom']['data']\n",
    "                    break\n",
    "        except Exception as e:\n",
    "            print(f'Error: Failed on parsing response on question - \"{q}\", exit. {type(e).__name__}: \"{e}\".')\n",
    "            exit()\n",
    "\n",
    "        \n",
    "        result = []\n",
    "        if success:\n",
    "           \n",
    "            try:\n",
    "                if len(r) == 0:\n",
    "                    raise Exception\n",
    "            except Exception as e:\n",
    "                print(f'Error: Failed on parsing response on question - \"{q}\", exit. . {type(e).__name__}: \"{e}\".')\n",
    "\n",
    "            for r1 in r:\n",
    "                result.append(r1['meta'])\n",
    "            \n",
    "\n",
    "            DATA['message'] = '/intent_affirm'\n",
    "            try:\n",
    "                response = requests.post(URL, json = DATA)\n",
    "                if response.status_code != 200:\n",
    "                    print(f'Error: Service at {URL} is unavailable, exit.')\n",
    "                    exit()\n",
    "            except Exception as e:\n",
    "                print(f'Error: Exception at posting affirmative message on question - \"{q}\", exit. {type(e).__name__}: \"{e}\".')\n",
    "                exit()\n",
    "            \n",
    "            try:\n",
    "                r = response.json()\n",
    "                r = r[0]['text']\n",
    "                if 'Anything else I can help with?' != r:\n",
    "                    raise Exception\n",
    "            except Exception as e:\n",
    "                print(f'Error: Failed on parsing response of affirmative message on question - \"{q}\", exit. {type(e).__name__}: \"{e}\".')\n",
    "                exit()\n",
    "        else:\n",
    "            print(f'No results for question - \"{q}\"')\n",
    "            \n",
    "        if (i+1)%5 == 0:\n",
    "            print(f'Finished {i+1} questions...')\n",
    "        \n",
    "        results.append(result)\n",
    "    \n",
    "    print(f'Finished querying all ({len(questions)}) questions for scoring')\n",
    "\n",
    "    return results\n"
   ]
  },
  {
   "cell_type": "markdown",
   "metadata": {},
   "source": [
    "## Loading questions"
   ]
  },
  {
   "cell_type": "markdown",
   "metadata": {},
   "source": [
    "### Valid questions stats"
   ]
  },
  {
   "cell_type": "code",
   "execution_count": null,
   "metadata": {},
   "outputs": [],
   "source": [
    "import pandas as pd\n",
    "\n",
    "VALID_DATA  = './data/transformed/valid_questions.pkl'\n",
    "\n",
    "df = pd.read_pickle(VALID_DATA)\n",
    "print(f'Shape of NA questions: {df.shape}')\n",
    "df.sample(10)"
   ]
  },
  {
   "cell_type": "code",
   "execution_count": null,
   "metadata": {},
   "outputs": [],
   "source": [
    "answers_pest    = df['CorrectTitle' ].values.tolist()\n",
    "answers_url     = df['URL'          ].values.tolist()\n",
    "questions       = df['Question'     ].values.tolist()\n",
    "results         = run_tests(questions)"
   ]
  },
  {
   "cell_type": "code",
   "execution_count": null,
   "metadata": {},
   "outputs": [],
   "source": [
    "scores = []\n",
    "for i, r in enumerate(results):\n",
    "    answer = answers_url[i]\n",
    "    topn = [False, False, False, False]\n",
    "    for i1, r1 in enumerate(r):\n",
    "        if r1['url'].split('?')[0] in answer:\n",
    "            if i1 == 0:\n",
    "                topn[0] = True\n",
    "            if i1 < 3:\n",
    "                topn[1] = True\n",
    "            if i1 < 5:\n",
    "                topn[2] = True\n",
    "            topn[3] = True\n",
    "\n",
    "    scores.append(topn)"
   ]
  },
  {
   "cell_type": "code",
   "execution_count": null,
   "metadata": {},
   "outputs": [],
   "source": [
    "top1    = 0\n",
    "top3    = 0\n",
    "top5    = 0\n",
    "top10   = 0\n",
    "for topn in scores:\n",
    "    if topn[0]: top1    += 1\n",
    "    if topn[1]: top3    += 1\n",
    "    if topn[2]: top5    += 1\n",
    "    if topn[3]: top10   += 1\n",
    "\n",
    "print(f'Out of {len(results)} results, following correct:'  )\n",
    "print(f'Top 1 : {top1 :<3d} ({top1 /len(results) * 100:<.2f}%)')\n",
    "print(f'Top 3 : {top3 :<3d} ({top3 /len(results) * 100:<.2f}%)')\n",
    "print(f'Top 5 : {top5 :<3d} ({top5 /len(results) * 100:<.2f}%)')\n",
    "print(f'Top 10: {top10:<3d} ({top10/len(results) * 100:<.2f}%)')"
   ]
  },
  {
   "cell_type": "markdown",
   "metadata": {},
   "source": [
    "### Valid questions errors"
   ]
  },
  {
   "cell_type": "code",
   "execution_count": null,
   "metadata": {},
   "outputs": [],
   "source": [
    "for i, score in enumerate(scores):\n",
    "    if not any(score):\n",
    "        print(f'------------------------------------------------------------------')\n",
    "        print(f'Question number     : {i+1}'                        )\n",
    "        print(f'Question            : {questions[i]}'               )\n",
    "        print(f'The title answers   : {\",\".join(answers_pest[i])}'  )\n",
    "        print(f'The URL answers     : {answers_url[i]}'             )\n",
    "        if results[i]:\n",
    "            for i1, res in enumerate(results[i]):\n",
    "                print(f'Results ranked {i1+1:<2}   : {res[\"title\"][:30] + \"...\":<33} {\"(URL: \" + res[\"url\"]:>10s})')\n",
    "                top_score = res[\"scores\"][\"top_score_1\"]\n",
    "                print(f'Top 1 score: {top_score[\"score\"]:.3f} at field \"{top_score[\"field\"]}\" with text: \"{top_score[\"text\"]}\"')\n",
    "        else:\n",
    "            print(f'No results found for this query...')\n",
    "            "
   ]
  },
  {
   "cell_type": "code",
   "execution_count": null,
   "metadata": {},
   "outputs": [],
   "source": [
    "import re\n",
    "\n",
    "error_results = {\n",
    "    'question_number'   : [],\n",
    "    'question_text'     : [],\n",
    "    'answer_title'      : [],\n",
    "    'answer_url'        : [],\n",
    "    'result_urls'       : [],\n",
    "    'top_scores'        : []\n",
    "}\n",
    "\n",
    "for i in range(10):\n",
    "    error_results['result_urls' ].append([])\n",
    "    error_results['top_scores'  ].append([])\n",
    "\n",
    "\n",
    "for i, score in enumerate(scores):\n",
    "    if not any(score):\n",
    "        error_results['question_number' ].append(i+1            )\n",
    "        error_results['question_text'   ].append(questions[i]   )\n",
    "        error_results['answer_title'    ].append(re.sub('\\s+', ' ', ', '.join(answers_pest[i])))\n",
    "        error_results['answer_url'      ].append(re.sub('\\s+', ' ', ', '.join(answers_url[i])))\n",
    "        \n",
    "        r_temp = ['No answer'   ] * 10\n",
    "        s_temp = ['No score'    ] * 10\n",
    "        for i1, res in enumerate(results[i]):\n",
    "            r_temp[i1] = f'{res[\"title\"][:30]} (URL: {res[\"url\"]:>10s})'\n",
    "            \n",
    "            top_score = res[\"scores\"][\"top_score_1\"]    \n",
    "            s_temp[i1] = f'{top_score[\"score\"]:.3f} - \"{top_score[\"field\"]}\" - \"{top_score[\"text\"]}\"'\n",
    "        \n",
    "        for i1, res in enumerate(r_temp):\n",
    "            error_results['result_urls' ][i1].append(res)\n",
    "        for i1, res in enumerate(s_temp):\n",
    "            error_results['top_scores'  ][i1].append(res)\n"
   ]
  },
  {
   "cell_type": "code",
   "execution_count": null,
   "metadata": {},
   "outputs": [],
   "source": [
    "data = {\n",
    "    'QuestionNumber': error_results['question_number'   ],\n",
    "    'QuestionText'  : error_results['question_text'     ],\n",
    "    'AnswerTitle'   : error_results['answer_title'      ],\n",
    "    'AnswerURL'     : error_results['answer_url'        ],\n",
    "    'ResultRank1'   : error_results['result_urls'   ][0],\n",
    "    'TopScore1'     : error_results['top_scores'    ][0],\n",
    "    'ResultRank2'   : error_results['result_urls'   ][1],\n",
    "    'TopScore2'     : error_results['top_scores'    ][1],\n",
    "    'ResultRank3'   : error_results['result_urls'   ][2],\n",
    "    'TopScore3'     : error_results['top_scores'    ][2],\n",
    "    'ResultRank4'   : error_results['result_urls'   ][3],\n",
    "    'TopScore4'     : error_results['top_scores'    ][3],\n",
    "    'ResultRank5'   : error_results['result_urls'   ][4],\n",
    "    'TopScore5'     : error_results['top_scores'    ][4],\n",
    "    'ResultRank6'   : error_results['result_urls'   ][5],\n",
    "    'TopScore6'     : error_results['top_scores'    ][5],\n",
    "    'ResultRank7'   : error_results['result_urls'   ][6],\n",
    "    'TopScore7'     : error_results['top_scores'    ][6],\n",
    "    'ResultRank8'   : error_results['result_urls'   ][7],\n",
    "    'TopScore8'     : error_results['top_scores'    ][7],\n",
    "    'ResultRank9'   : error_results['result_urls'   ][8],\n",
    "    'TopScore9'     : error_results['top_scores'    ][8],\n",
    "    'ResultRank10'  : error_results['result_urls'   ][9],\n",
    "    'TopScore10'    : error_results['top_scores'    ][9]\n",
    "}\n",
    "\n",
    "df_errors = pd.DataFrame(data = data).set_index('QuestionNumber')\n",
    "print(f'Shape of error answers dataframe: {df_errors.shape}')\n",
    "df_errors.sample(10)"
   ]
  },
  {
   "cell_type": "code",
   "execution_count": null,
   "metadata": {},
   "outputs": [],
   "source": [
    "ERRORS_VALID_DATA = './data/errors/errors_valid.csv'\n",
    "df_errors.to_csv(ERRORS_VALID_DATA)"
   ]
  },
  {
   "cell_type": "markdown",
   "metadata": {},
   "source": [
    "### NA questions stats"
   ]
  },
  {
   "cell_type": "code",
   "execution_count": null,
   "metadata": {},
   "outputs": [],
   "source": [
    "import pandas as pd\n",
    "\n",
    "NA_DATA = './data/transformed/na_questions.pkl'\n",
    "\n",
    "df = pd.read_pickle(NA_DATA)\n",
    "print(f'Shape of NA questions: {df.shape}')\n",
    "df.sample(10)"
   ]
  },
  {
   "cell_type": "code",
   "execution_count": null,
   "metadata": {},
   "outputs": [],
   "source": [
    "questions   = df['Question'].values.tolist()\n",
    "results     = run_tests(questions)"
   ]
  },
  {
   "cell_type": "code",
   "execution_count": null,
   "metadata": {},
   "outputs": [],
   "source": [
    "no_results = 0\n",
    "for i, res in enumerate(results):\n",
    "    if len(res) == 0:\n",
    "        no_results += 1\n",
    "\n",
    "print(f'Out of {len(questions)} NA questions {no_results} have correctly returned 0 results')\n",
    "print(f'Recall: {no_results/len(questions) * 100:.2f}%')"
   ]
  },
  {
   "cell_type": "markdown",
   "metadata": {},
   "source": [
    "### NA questions errors"
   ]
  },
  {
   "cell_type": "code",
   "execution_count": null,
   "metadata": {},
   "outputs": [],
   "source": [
    "for i, res in enumerate(results):\n",
    "    if len(res) > 0:\n",
    "        print(f'------------------------------------------------------------------')\n",
    "        print(f'Question number     : {i+1}')\n",
    "        print(f'Question            : {questions[i]}')\n",
    "        print(f'Number of results   : {len(res)}')\n",
    "        for i1, res in enumerate(results[i]):\n",
    "            print(f'Results ranked {i1+1:<2}   : {res[\"title\"][:30] + \"...\":<33} {\"(URL: \" + res[\"url\"]:>10s})')"
   ]
  },
  {
   "cell_type": "code",
   "execution_count": null,
   "metadata": {},
   "outputs": [],
   "source": [
    "error_results = {\n",
    "    'question_number'   : [],\n",
    "    'question_text'     : [],\n",
    "    'result_urls'       : []\n",
    "}\n",
    "\n",
    "for i in range(10):\n",
    "    error_results['result_urls'].append([])\n",
    "\n",
    "\n",
    "for i, res in enumerate(results):\n",
    "    if len(res) > 0:\n",
    "        error_results['question_number' ].append(i+1            )\n",
    "        error_results['question_text'   ].append(questions[i]   )\n",
    "        \n",
    "        r_temp = ['No answer'] * 10\n",
    "        for i1, res in enumerate(results[i]):\n",
    "            r_temp[i1] = f'{res[\"title\"][:30] + \"...\":<33} {\"(URL: \" + res[\"url\"]:>10s})'\n",
    "        for i1, res in enumerate(r_temp):\n",
    "            error_results['result_urls'][i1].append(res)\n"
   ]
  },
  {
   "cell_type": "code",
   "execution_count": null,
   "metadata": {},
   "outputs": [],
   "source": [
    "data = {\n",
    "    'QuestionNumber': error_results['question_number'   ],\n",
    "    'QuestionText'  : error_results['question_text'     ],\n",
    "    'ResultRank1'   : error_results['result_urls'][0],\n",
    "    'ResultRank2'   : error_results['result_urls'][1],\n",
    "    'ResultRank3'   : error_results['result_urls'][2],\n",
    "    'ResultRank4'   : error_results['result_urls'][3],\n",
    "    'ResultRank5'   : error_results['result_urls'][4],\n",
    "    'ResultRank6'   : error_results['result_urls'][5],\n",
    "    'ResultRank7'   : error_results['result_urls'][6],\n",
    "    'ResultRank8'   : error_results['result_urls'][7],\n",
    "    'ResultRank9'   : error_results['result_urls'][8],\n",
    "    'ResultRank10'  : error_results['result_urls'][9]\n",
    "}\n",
    "\n",
    "df_errors = pd.DataFrame(data = data).set_index('QuestionNumber')\n",
    "print(f'Shape of error answers dataframe: {df_errors.shape}')\n",
    "df_errors.sample(10)"
   ]
  },
  {
   "cell_type": "code",
   "execution_count": null,
   "metadata": {},
   "outputs": [],
   "source": [
    "ERRORS_NA_DATA = './data/errors/errors_na.csv'\n",
    "df_errors.to_csv(ERRORS_NA_DATA)"
   ]
  },
  {
   "cell_type": "code",
   "execution_count": null,
   "metadata": {},
   "outputs": [],
   "source": []
  }
 ],
 "metadata": {
  "interpreter": {
   "hash": "2a7edd50bd4732311533dd12a70456e738deff83ad0beb9eb792557b72a83e8d"
  },
  "kernelspec": {
   "display_name": "Python 3.9.12 ('askchatbot-scoring')",
   "language": "python",
   "name": "python3"
  },
  "language_info": {
   "codemirror_mode": {
    "name": "ipython",
    "version": 3
   },
   "file_extension": ".py",
   "mimetype": "text/x-python",
   "name": "python",
   "nbconvert_exporter": "python",
   "pygments_lexer": "ipython3",
   "version": "3.9.12"
  },
  "orig_nbformat": 4
 },
 "nbformat": 4,
 "nbformat_minor": 2
}
