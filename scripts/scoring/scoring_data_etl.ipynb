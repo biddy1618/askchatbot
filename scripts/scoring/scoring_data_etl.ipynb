{
 "cells": [
  {
   "cell_type": "markdown",
   "metadata": {},
   "source": [
    "# ETL for the scoring data (questions and corresponding links to sources from UC IPM)"
   ]
  },
  {
   "cell_type": "code",
   "execution_count": null,
   "metadata": {},
   "outputs": [],
   "source": [
    "from urllib.parse import urlparse\n",
    "\n",
    "def _uri_validator(x):\n",
    "    try:\n",
    "        result = urlparse(x)\n",
    "        return all([result.scheme, result.netloc])\n",
    "    except:\n",
    "        return False"
   ]
  },
  {
   "cell_type": "code",
   "execution_count": null,
   "metadata": {},
   "outputs": [],
   "source": [
    "import pandas as pd\n",
    "\n",
    "UCIPM_DATA  = './data/raw/UCIPM_Chatbot_Core_Questions 2020_08_19.xlsx - Questions with the correct link.csv'\n",
    "AE_DATA     = './data/raw/AE_test_QA_chatbot.xlsx - Questions with the correct link.csv'\n",
    "VALID_DATA  = './data/transformed/valid_questions.pkl'\n",
    "NA_DATA     = './data/transformed/na_questions.pkl'\n",
    "\n",
    "df = pd.read_csv(UCIPM_DATA)\n",
    "\n",
    "df.sample(10)"
   ]
  },
  {
   "cell_type": "markdown",
   "metadata": {},
   "source": [
    "## ETL for questions with answer links"
   ]
  },
  {
   "cell_type": "code",
   "execution_count": null,
   "metadata": {},
   "outputs": [],
   "source": [
    "print(f'Size of DF (before): {df.shape}')\n",
    "df = df[df['Crawled'] == 'Y']\n",
    "print(f'Size of DF (after ): {df.shape}')\n",
    "\n",
    "\n",
    "df['Question'   ] = df['Question'   ].apply(lambda x: x.split('\\n')[0]              )\n",
    "df['URL'        ] = df['URL'        ].apply(lambda x: x.split('\\n')                 )\n",
    "df['URL'        ] = df['URL'        ].apply(lambda x: [x1.split('?')[0] for x1 in x])\n",
    "\n",
    "for urls in df['URL']:\n",
    "    for u in urls:\n",
    "        assert urlparse(u)\n",
    "\n",
    "df['Source'] = 'UCIPM'\n",
    "\n",
    "ucipm = df[['Question', 'Pest', 'URL', 'Source']]\n",
    "\n",
    "ucipm.sample(10)"
   ]
  },
  {
   "cell_type": "code",
   "execution_count": null,
   "metadata": {},
   "outputs": [],
   "source": [
    "df = pd.read_csv(AE_DATA)\n",
    "\n",
    "df.sample(10)"
   ]
  },
  {
   "cell_type": "code",
   "execution_count": null,
   "metadata": {},
   "outputs": [],
   "source": [
    "print(f'Size of DF (before): {df.shape}')\n",
    "df = df[df['URL'].notna()       ]\n",
    "df = df[df['URL'] != 'no_answer']\n",
    "print(f'Size of DF (after ): {df.shape}')\n",
    "\n",
    "df['URL'] = df['URL'].apply(lambda x: x.split('\\n')                 )\n",
    "df['URL'] = df['URL'].apply(lambda x: [x1.split('?')[0] for x1 in x])\n",
    "\n",
    "for urls in df['URL']:\n",
    "    for u in urls:\n",
    "        assert urlparse(u)\n",
    "\n",
    "df['Source' ] = 'AE'\n",
    "df['Pest'   ] = ''\n",
    "\n",
    "ae = df[['Question', 'Pest', 'URL', 'Source']]\n",
    "\n",
    "ae.sample(10)"
   ]
  },
  {
   "cell_type": "code",
   "execution_count": null,
   "metadata": {},
   "outputs": [],
   "source": [
    "df = pd.concat([ucipm, ae])\n",
    "\n",
    "df.to_pickle(VALID_DATA)\n",
    "print(f'Shape of final DF: {df.shape}')\n",
    "df.sample(10)"
   ]
  },
  {
   "cell_type": "code",
   "execution_count": null,
   "metadata": {},
   "outputs": [],
   "source": [
    "df = pd.read_pickle(VALID_DATA)\n",
    "print(f'Shape of data: {df.shape}')\n",
    "df.sample(10)"
   ]
  },
  {
   "cell_type": "markdown",
   "metadata": {},
   "source": [
    "## ETL for `NA` and `no_answer` questions "
   ]
  },
  {
   "cell_type": "code",
   "execution_count": null,
   "metadata": {},
   "outputs": [],
   "source": [
    "df = pd.read_csv(AE_DATA)\n",
    "\n",
    "df.sample(10)"
   ]
  },
  {
   "cell_type": "code",
   "execution_count": null,
   "metadata": {},
   "outputs": [],
   "source": [
    "print(f'Size of DF (before): {df.shape}')\n",
    "df = df[(df['URL'].isna()) & (df['URL'] != 'no_answer')]\n",
    "print(f'Size of DF (after ): {df.shape}')\n",
    "\n",
    "df['Source' ] = 'AE'\n",
    "\n",
    "df = df[['Question', 'Source']]\n",
    "\n",
    "df.sample(10)"
   ]
  },
  {
   "cell_type": "code",
   "execution_count": null,
   "metadata": {},
   "outputs": [],
   "source": [
    "df.to_pickle(NA_DATA)\n",
    "print(f'Shape of final DF: {df.shape}')\n",
    "df.sample(10)"
   ]
  },
  {
   "cell_type": "code",
   "execution_count": null,
   "metadata": {},
   "outputs": [],
   "source": [
    "df = pd.read_pickle(NA_DATA)\n",
    "print(f'Shape of data: {df.shape}')\n",
    "df.sample(10)"
   ]
  },
  {
   "cell_type": "code",
   "execution_count": null,
   "metadata": {},
   "outputs": [],
   "source": []
  }
 ],
 "metadata": {
  "interpreter": {
   "hash": "c879b226aff7b3373e12a39e94d83489c44209d9d2778fd8f98e735ea38f8157"
  },
  "kernelspec": {
   "display_name": "Python 3.9.12 ('test')",
   "language": "python",
   "name": "python3"
  },
  "language_info": {
   "codemirror_mode": {
    "name": "ipython",
    "version": 3
   },
   "file_extension": ".py",
   "mimetype": "text/x-python",
   "name": "python",
   "nbconvert_exporter": "python",
   "pygments_lexer": "ipython3",
   "version": "3.9.12"
  },
  "orig_nbformat": 4
 },
 "nbformat": 4,
 "nbformat_minor": 2
}
