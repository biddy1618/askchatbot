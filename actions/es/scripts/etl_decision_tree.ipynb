{
  "cells": [
    {
      "cell_type": "markdown",
      "metadata": {},
      "source": [
        "# Parsing data from decision tree spreadsheets"
      ]
    },
    {
      "cell_type": "code",
      "execution_count": null,
      "metadata": {
        "id": "IcgAryd7jGuc"
      },
      "outputs": [],
      "source": [
        "import xlrd\n",
        "import os\n",
        "import pandas as pd"
      ]
    },
    {
      "cell_type": "code",
      "execution_count": null,
      "metadata": {},
      "outputs": [],
      "source": [
        "_PATH = '../data/decision_tree/'\n",
        "DATA_FILE_NAMES = sorted(os.listdir(_PATH))\n",
        "print(DATA_FILE_NAMES)"
      ]
    },
    {
      "cell_type": "markdown",
      "metadata": {
        "id": "Pq_pPpNcdOm1"
      },
      "source": [
        "## Parsing `diagnostic_data_matrix_mar2015.xlsx`"
      ]
    },
    {
      "cell_type": "code",
      "execution_count": null,
      "metadata": {},
      "outputs": [],
      "source": [
        "FILE_NAME = 'diagnostic_data_matrix_mar2015.xlsx'\n",
        "book = xlrd.open_workbook(_PATH + FILE_NAME)"
      ]
    },
    {
      "cell_type": "code",
      "execution_count": null,
      "metadata": {
        "colab": {
          "base_uri": "https://localhost:8080/"
        },
        "id": "RYbtmXyyjGud",
        "outputId": "cca8598d-dafa-4a2a-9aef-b04545ee0eaf"
      },
      "outputs": [],
      "source": [
        "print(\"The number of worksheets is {0}\".format(book.nsheets))\n",
        "print(\"Worksheet name(s): {0}\".format(book.sheet_names()))"
      ]
    },
    {
      "cell_type": "code",
      "execution_count": null,
      "metadata": {
        "id": "0kw_dWAPjGud"
      },
      "outputs": [],
      "source": [
        "INDEX = 1\n",
        "URL_INDEX = 'http://www.ipm.ucdavis.edu'\n",
        "\n",
        "\n",
        "def retrieve_problems(col_index, sh):\n",
        "  name = sh.cell_value(rowx = 0, colx = col_index)\n",
        "  link = sh.cell_value(rowx = 1, colx = col_index)\n",
        "  macrotype = sh.cell_value(rowx = 2, colx = col_index)\n",
        "  microtype = sh.cell_value(rowx = 3, colx = col_index)\n",
        "  d = {1: 'vegetable', 2: 'fruit', 3: 'woody', 4: 'flower'}\n",
        "  plant = d[sh.number]\n",
        "  \n",
        "  problem = {\n",
        "      'name': name,\n",
        "      'link': URL_INDEX + link,\n",
        "      'macrotype': macrotype,\n",
        "      'microtype': microtype,\n",
        "      'plant': plant,\n",
        "      \n",
        "  }\n",
        "  return problem\n",
        "\n",
        "def check(to_parse):\n",
        "  assert isinstance(to_parse, str) and len(to_parse) > 0\n",
        "  tmp = to_parse.lower().split(':')\n",
        "  assert len(tmp) == 2\n",
        "  return tmp\n",
        "\n",
        "def retrieve_part(to_parse):\n",
        "  tmp = to_parse.strip()\n",
        "  assert len(tmp) > 0\n",
        "  return [tmp.strip()]\n",
        "\n",
        "def retrieve_descs(to_parse):\n",
        "  descs = [i.strip() for i in to_parse.split(\",\")]\n",
        "  assert len(descs) > 0 and \"\" not in descs\n",
        "  return descs\n",
        "\n",
        "def parse_sheet(index = 1, debug = False):\n",
        "  sh = book.sheet_by_index(index)\n",
        "  print(f\"{sh.name} {sh.nrows} {sh.ncols}\")\n",
        "  print(f\"Cell A1 is {sh.cell_value(rowx=0, colx=0)}\")\n",
        "\n",
        "  START_COL = 4\n",
        "  START_ROW = 8\n",
        "  END_COL = sh.ncols\n",
        "  END_ROW = sh.nrows\n",
        "  \n",
        "  df = {\n",
        "      'problem_name': [],\n",
        "      'problem_link': [],\n",
        "      'problem_macrotype': [],\n",
        "      'problem_microtype': [],\n",
        "      'problem_plant': [],\n",
        "      'problem_part': [],\n",
        "      'problem_description': [],\n",
        "      'problem_desc_link': []\n",
        "  }\n",
        "\n",
        "  for c in range(START_COL, END_COL):\n",
        "    problem = retrieve_problems(c, sh)\n",
        "    for r in range(START_ROW, END_ROW):\n",
        "      tmp = sh.cell_value(rowx = r, colx = c)\n",
        "      if tmp == '':\n",
        "        continue\n",
        "      desc_link = tmp\n",
        "      tmp = sh.cell_value(rowx = r, colx = 0)\n",
        "      parts, descs = check(tmp)\n",
        "      parts = retrieve_part(parts)\n",
        "      descs = retrieve_descs(descs)\n",
        "      tmp = sh.cell_value(rowx = r, colx = 1)\n",
        "      if tmp != '':\n",
        "        tmp_part, tmp_descs = check(tmp)\n",
        "        tmp_part = retrieve_part(tmp_part)\n",
        "        tmp_descs = retrieve_descs(tmp_descs)\n",
        "        parts.extend(tmp_part)\n",
        "        descs.extend(tmp_descs)\n",
        "      tmp = sh.cell_value(rowx = r, colx = 2)\n",
        "      if tmp != '':\n",
        "        tmp_part, tmp_descs = check(tmp)\n",
        "        tmp_part = retrieve_part(tmp_part)\n",
        "        tmp_descs = retrieve_descs(tmp_descs)\n",
        "        parts.extend(tmp_part)\n",
        "        descs.extend(tmp_descs)\n",
        "      \n",
        "      parts = list(set(parts))\n",
        "      if debug: print(r, parts)\n",
        "      assert len(parts) == 1\n",
        "      descs = list(set(descs))\n",
        "\n",
        "      df['problem_name'].append(problem['name'])\n",
        "      df['problem_link'].append(problem['link'])\n",
        "      df['problem_macrotype'].append(problem['macrotype'])\n",
        "      df['problem_microtype'].append(problem['microtype'])\n",
        "      df['problem_plant'].append(problem['plant'])\n",
        "      \n",
        "      df['problem_desc_link'].append(desc_link)\n",
        "      df['problem_part'].append(parts[0])\n",
        "      df['problem_description'].append(descs)\n",
        "    \n",
        "  return df"
      ]
    },
    {
      "cell_type": "code",
      "execution_count": null,
      "metadata": {
        "colab": {
          "base_uri": "https://localhost:8080/",
          "height": 615
        },
        "id": "Ow4tr2_5vDi3",
        "outputId": "c3f3ff5b-8229-4866-83f3-801903cb4022"
      },
      "outputs": [],
      "source": [
        "df = parse_sheet(index = 1)\n",
        "df = pd.DataFrame(data = df)\n",
        "df.sample(10)"
      ]
    },
    {
      "cell_type": "code",
      "execution_count": null,
      "metadata": {
        "colab": {
          "base_uri": "https://localhost:8080/"
        },
        "id": "5ifCPKz86m4K",
        "outputId": "15295e3f-75df-400e-d0f9-5ac8236d85d7"
      },
      "outputs": [],
      "source": [
        "INDEX = 2\n",
        "tmp = parse_sheet(index = INDEX)\n",
        "tmp = pd.DataFrame(data = tmp)\n",
        "\n",
        "print(df.shape, tmp.shape)\n",
        "df = df.append(tmp)\n",
        "print(df.shape)"
      ]
    },
    {
      "cell_type": "code",
      "execution_count": null,
      "metadata": {
        "colab": {
          "base_uri": "https://localhost:8080/"
        },
        "id": "1IL5DO9a7BsR",
        "outputId": "56ef0f01-9a19-4900-e039-d1d16412dc94"
      },
      "outputs": [],
      "source": [
        "INDEX = 3\n",
        "tmp = parse_sheet(index = INDEX)\n",
        "tmp = pd.DataFrame(data = tmp)\n",
        "\n",
        "print(df.shape, tmp.shape)\n",
        "df = df.append(tmp)\n",
        "print(df.shape)"
      ]
    },
    {
      "cell_type": "code",
      "execution_count": null,
      "metadata": {
        "colab": {
          "base_uri": "https://localhost:8080/"
        },
        "id": "xmxHoqz17WoY",
        "outputId": "dba584e9-938f-489e-bbff-83b891f96894"
      },
      "outputs": [],
      "source": [
        "INDEX = 4\n",
        "tmp = parse_sheet(index = INDEX)\n",
        "tmp = pd.DataFrame(data = tmp)\n",
        "\n",
        "print(df.shape, tmp.shape)\n",
        "df = df.append(tmp)\n",
        "print(df.shape)"
      ]
    },
    {
      "cell_type": "code",
      "execution_count": null,
      "metadata": {
        "colab": {
          "base_uri": "https://localhost:8080/",
          "height": 581
        },
        "id": "S_sXj8QqJGcv",
        "outputId": "2ec87800-f2d4-4e48-cc88-9ae95e9edf58"
      },
      "outputs": [],
      "source": [
        "df.sample(10)"
      ]
    },
    {
      "cell_type": "code",
      "execution_count": null,
      "metadata": {
        "colab": {
          "base_uri": "https://localhost:8080/"
        },
        "id": "PCQbOJIcgO5y",
        "outputId": "07426562-5382-4db4-d223-77330a9e144e"
      },
      "outputs": [],
      "source": [
        "print(f'Problem macrotype:\\n{df[\"problem_macrotype\"].unique()}\\n')\n",
        "print(f'Problem microtype:\\n{df[\"problem_microtype\"].unique()}\\n')\n",
        "print(f'Problem plant:\\n{df[\"problem_plant\"].unique()}\\n')\n",
        "print(f'Problem part:\\n{df[\"problem_part\"].unique()}\\n')\n",
        "print(f'Shape:\\n{df.shape}\\n')\n",
        "print(f'Shape of duplicated parts:\\n{df[df[\"problem_part\"].isin([\"twigs/branches\", \"flowers/blossoms\", \"roots/crown\", \"nuts/kernels\"])].shape}')\n"
      ]
    },
    {
      "cell_type": "code",
      "execution_count": null,
      "metadata": {},
      "outputs": [],
      "source": [
        "rename = {\n",
        "    'Invertebrates' : 'Invertebrate', \n",
        "    'Diseases'      : 'Disease'     ,\n",
        "    'Invertebrate ' : 'Invertebrate'\n",
        "}\n",
        "df['problem_macrotype'].replace(rename, inplace = True)\n",
        "\n",
        "rename = {'Unknown': 'Other'}\n",
        "df['problem_microtype'].replace(rename, inplace = True)\n",
        "\n",
        "df['problem_part'] = df['problem_part'].str.split('/')\n",
        "df = df.explode('problem_part')\n",
        "\n",
        "df['problem_description'] = df['problem_description'].str.join(', ').replace({'\"nests\"': 'nests'})\n",
        "\n",
        "print(f'Problem macrotype:\\n{df[\"problem_macrotype\"].unique()}\\n')\n",
        "print(f'Problem microtype:\\n{df[\"problem_microtype\"].unique()}\\n')\n",
        "print(f'Problem plant:\\n{df[\"problem_plant\"].unique()}\\n')\n",
        "print(f'Problem part:\\n{df[\"problem_part\"].unique()}\\n')\n",
        "print(f'Shape:\\n{df.shape}\\n')"
      ]
    },
    {
      "cell_type": "code",
      "execution_count": null,
      "metadata": {},
      "outputs": [],
      "source": [
        "df.sample(10)"
      ]
    },
    {
      "cell_type": "markdown",
      "metadata": {
        "id": "hpyXFqQpkSz_"
      },
      "source": [
        "## Parsing `diagnostic_data_list_mar2021.xlsx`"
      ]
    },
    {
      "cell_type": "code",
      "execution_count": null,
      "metadata": {},
      "outputs": [],
      "source": [
        "FILE_NAME = 'diagnostic_data_list_mar2021.xlsx'\n",
        "book = xlrd.open_workbook(_PATH + FILE_NAME)"
      ]
    },
    {
      "cell_type": "code",
      "execution_count": null,
      "metadata": {
        "colab": {
          "base_uri": "https://localhost:8080/"
        },
        "id": "4fifo1YXoisS",
        "outputId": "022cdf27-5dbf-4b65-8953-9a1fc78b8056"
      },
      "outputs": [],
      "source": [
        "print(\"The number of worksheets is {0}\".format(book.nsheets))\n",
        "print(\"Worksheet name(s): {0}\".format(book.sheet_names()))"
      ]
    },
    {
      "cell_type": "code",
      "execution_count": null,
      "metadata": {
        "colab": {
          "base_uri": "https://localhost:8080/"
        },
        "id": "bXdCib03oqGW",
        "outputId": "30a06fca-2325-4d85-832a-4833e3eb79ed"
      },
      "outputs": [],
      "source": [
        "sh = book.sheet_by_index(0)\n",
        "print(f\"{sh.name} {sh.nrows} {sh.ncols}\")\n",
        "print(f\"Cell A1 is {sh.cell_value(rowx=0, colx=0)}\")"
      ]
    },
    {
      "cell_type": "code",
      "execution_count": null,
      "metadata": {
        "colab": {
          "base_uri": "https://localhost:8080/",
          "height": 363
        },
        "id": "D1GD0j687ipS",
        "outputId": "d0361957-b272-4545-bd2d-546e1b53307e"
      },
      "outputs": [],
      "source": [
        "START_ROW = 1\n",
        "END_ROW = sh.nrows\n",
        "\n",
        "plant_type = []\n",
        "plant_name = []\n",
        "plant_part = []\n",
        "plant_damage = []\n",
        "link = []\n",
        "for r in range(START_ROW, END_ROW):\n",
        "  tmp_plant_type = sh.cell_value(rowx = r, colx = 0)\n",
        "  tmp_plant_name = sh.cell_value(rowx = r, colx = 1)\n",
        "  tmp_plant_part = sh.cell_value(rowx = r, colx = 2)\n",
        "  tmp_plant_damage = sh.cell_value(rowx = r, colx = 3)\n",
        "  tmp_link = sh.cell_value(rowx = r, colx = 4)\n",
        "  plant_type.append(tmp_plant_type)\n",
        "  plant_name.append(tmp_plant_name)\n",
        "  plant_part.append(tmp_plant_part)\n",
        "  plant_damage.append(tmp_plant_damage)\n",
        "  link.append(tmp_link)\n",
        "\n",
        "df = pd.DataFrame(data = {'plant_type': plant_type, \n",
        "                          'plant_name': plant_name, \n",
        "                          'plant_part': plant_part, \n",
        "                          'plant_damage': plant_damage,\n",
        "                          'link': link\n",
        "                          })\n",
        "\n",
        "df.sample(10)"
      ]
    },
    {
      "cell_type": "code",
      "execution_count": null,
      "metadata": {
        "colab": {
          "base_uri": "https://localhost:8080/"
        },
        "id": "NQ7gtZtGse3R",
        "outputId": "eca2c064-6960-4edb-e2cd-f33d5968085e"
      },
      "outputs": [],
      "source": [
        "print(f'Plant type:\\n{df[\"plant_type\"].unique()}\\n')\n",
        "print(f'Plant part:\\n{df[\"plant_part\"].unique()}\\n')\n",
        "print(f'Shape:\\n{df.shape}\\n')\n",
        "print(f'Shape of duplicated parts:\\n{df[df[\"plant_part\"].isin([\"flowers/blossoms\", \"twigs/branches\"])].shape}')"
      ]
    },
    {
      "cell_type": "code",
      "execution_count": null,
      "metadata": {
        "colab": {
          "base_uri": "https://localhost:8080/"
        },
        "id": "uPI8yoQHskPA",
        "outputId": "90cde5f2-dcef-494a-d9c2-ad8e5844efc0"
      },
      "outputs": [],
      "source": [
        "pt_map = {\n",
        "    'Flowers (non-woody)': 'flowers', \n",
        "    'Flowers': 'flowers',\n",
        "    'Fruit trees, nuts, berries, and grapevines': 'fruits',\n",
        "    'Trees and shrubs (including roses)': 'trees',\n",
        "    'Vegetables, melons, and herbs': 'vegetables'\n",
        "}\n",
        "df['plant_type'].replace(pt_map, inplace = True)\n",
        "\n",
        "df['plant_damage'] = df['plant_damage'].str.replace('\"nests\"', 'nests')\n",
        "\n",
        "df['plant_part'] = df['plant_part'].str.split('/')\n",
        "df = df.explode('plant_part')\n",
        "\n",
        "print(f'Shape:\\n{df.shape}\\n')\n",
        "print(f'Plant type:\\n{df[\"plant_type\"].unique()}\\n')\n",
        "print(f'Plant part:\\n{df[\"plant_part\"].unique()}\\n')"
      ]
    },
    {
      "cell_type": "code",
      "execution_count": null,
      "metadata": {
        "colab": {
          "base_uri": "https://localhost:8080/",
          "height": 363
        },
        "id": "nUcUKYnz2fIq",
        "outputId": "3e68a8aa-cc40-4a31-cbcc-7c26822416b0"
      },
      "outputs": [],
      "source": [
        "df.sample(10)"
      ]
    }
  ],
  "metadata": {
    "colab": {
      "collapsed_sections": [
        "Pq_pPpNcdOm1",
        "XsQ2MdJEanRt"
      ],
      "name": "parsingData.ipynb",
      "provenance": []
    },
    "interpreter": {
      "hash": "362d59c0cf6dbeab3abcbfc8685ab4c27b49db463d853836c10c4cab9bbbe211"
    },
    "kernelspec": {
      "display_name": "Python 3.8.13 ('askchatbot-dev')",
      "language": "python",
      "name": "python3"
    },
    "language_info": {
      "codemirror_mode": {
        "name": "ipython",
        "version": 3
      },
      "file_extension": ".py",
      "mimetype": "text/x-python",
      "name": "python",
      "nbconvert_exporter": "python",
      "pygments_lexer": "ipython3",
      "version": "3.8.13"
    }
  },
  "nbformat": 4,
  "nbformat_minor": 0
}
