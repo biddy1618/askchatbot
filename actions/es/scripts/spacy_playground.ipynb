{
 "cells": [
  {
   "cell_type": "code",
   "execution_count": null,
   "metadata": {},
   "outputs": [],
   "source": [
    "import spacy\n",
    "from spacy.matcher import DependencyMatcher\n",
    "\n",
    "nlp = spacy.load(\"en_core_web_trf\")\n",
    "\n",
    "pattern1 = [\n",
    "  {\n",
    "    \"RIGHT_ID\": \"object\",\n",
    "    \"RIGHT_ATTRS\": {\"POS\": \"NOUN\"}\n",
    "  },\n",
    "  # founded -> subject\n",
    "  {\n",
    "    \"LEFT_ID\": \"object\",\n",
    "    \"REL_OP\": \">\",\n",
    "    \"RIGHT_ID\": \"modifier\",\n",
    "    # \"RIGHT_ATTRS\": {\"DEP\": {\"IN\": [\"amod\", \"nummod\", \"compound\", \"conj\"]}}\n",
    "    \"RIGHT_ATTRS\": {\"POS\": {\"IN\": [\"ADJ\"]}}\n",
    "  }\n",
    "]\n",
    "pattern2 = [ \n",
    "  {\n",
    "  \"RIGHT_ID\": \"object\",\n",
    "  \"RIGHT_ATTRS\": {\"POS\": \"NOUN\"}\n",
    "  },\n",
    "  # founded -> subject\n",
    "  {\n",
    "    \"LEFT_ID\": \"object\",\n",
    "    \"REL_OP\": \">\",\n",
    "    \"RIGHT_ID\": \"modifier\",\n",
    "    \"RIGHT_ATTRS\": {\"DEP\": {\"IN\": [\"amod\", \"nummod\", \"compound\", \"conj\"]}}\n",
    "  },\n",
    "  {\n",
    "    \"LEFT_ID\": \"modifier\",\n",
    "    \"REL_OP\": \">\",\n",
    "    \"RIGHT_ID\": \"modifier2\",\n",
    "    \"RIGHT_ATTRS\": {\"DEP\": {\"IN\": [\"conj\"]}}\n",
    "  }\n",
    "]\n",
    "pattern3 = [\n",
    "  {\n",
    "  \"RIGHT_ID\": \"object\",\n",
    "  \"RIGHT_ATTRS\": {\"POS\": \"NOUN\"}\n",
    "  },\n",
    "  # object <-(nsubj)- aux\n",
    "  {\n",
    "    \"LEFT_ID\": \"object\",\n",
    "    \"REL_OP\": \"<\",\n",
    "    \"RIGHT_ID\": \"modifier\",\n",
    "    \"RIGHT_ATTRS\": {\"DEP\": \"prep\"}\n",
    "  },\n",
    "  {\n",
    "    \"LEFT_ID\": \"modifier\",\n",
    "    \"REL_OP\": \"<\",\n",
    "    \"RIGHT_ID\": \"modifier2\",\n",
    "    \"RIGHT_ATTRS\": {\"DEP\": \"acomp\"}\n",
    "  },\n",
    "  {\n",
    "    \"LEFT_ID\": \"modifier2\",\n",
    "    \"REL_OP\": \"<\",\n",
    "    \"RIGHT_ID\": \"modifier3\",\n",
    "    \"RIGHT_ATTRS\": {\"DEP\": \"ccomp\"}\n",
    "  },\n",
    "  {\n",
    "    \"LEFT_ID\": \"modifier3\",\n",
    "    \"REL_OP\": \">\",\n",
    "    \"RIGHT_ID\": \"modifier4\",\n",
    "    \"RIGHT_ATTRS\": {\"DEP\": \"nsubj\"}\n",
    "  }\n",
    "]\n",
    "\n",
    "\n",
    "text = \"Something is creating tunnels on my tomato plants. When I cut them open, I see yellowish worms or larvae with red or purple areas.\"\n",
    "text2 = \"I have an artichoke plant and it has all these little black specks on it! There was a ladybug on topside of leaf. What are they?\"\n",
    "text3 = \"We have an almond tree that is producing almonds. Come to find out the almonds are full of worms. Can you help with a what type of worm it is and possibly a plan of action?\"\n",
    "text4 = \"The plants are wilting\"\n",
    "doc = nlp(text4)\n",
    "\n",
    "matcher = DependencyMatcher(nlp.vocab, validate = True)\n",
    "matcher.add(\"FOUNDED1\", [pattern1])\n",
    "matcher.add(\"FOUNDED2\", [pattern2])\n",
    "matcher.add(\"FOUNDED3\", [pattern3])\n",
    "matches = matcher(doc)\n",
    "\n",
    "# Each token_id corresponds to one pattern dict\n",
    "# from spacy import displacy\n",
    "# displacy.render(doc, style='dep')\n",
    "\n",
    "for (match_id, token_ids) in matches:\n",
    "  for i in range(len(token_ids)):\n",
    "    print(f'{matcher.get(match_id)[1][0][i][\"RIGHT_ID\"] + \":\":<10} {doc[token_ids[i]].text:<10}', end = '\\t')\n",
    "  print()"
   ]
  },
  {
   "cell_type": "code",
   "execution_count": null,
   "metadata": {},
   "outputs": [],
   "source": [
    "print(f'{\"text\":<10} {\"lemma_\":<10} {\"pos_\":<10} {\"tag_\":<10} {\"dep_\":<10} {\"head.text\":<10} {\"head.pos_\":<10} {\"children\":<10}')\n",
    "for token in doc:\n",
    "    print(f'{token.text:<10} {token.lemma_:<10} {token.pos_:<10} {token.tag_:<10} {token.dep_:<10} {token.head.text:<10} {token.head.pos_:<10} {[child for child in token.children]}')"
   ]
  },
  {
   "cell_type": "code",
   "execution_count": null,
   "metadata": {},
   "outputs": [],
   "source": [
    "from spacy import displacy\n",
    "\n",
    "text = 'I have tried several \"organic\" solutions to treat a nagging aphid population on my Zuccinni squash and my basil. Is there a knock out punch for these pest! Preferably organic.'\n",
    "doc = nlp(text)\n",
    "\n",
    "displacy.render(doc, style='dep')"
   ]
  },
  {
   "cell_type": "code",
   "execution_count": null,
   "metadata": {},
   "outputs": [],
   "source": []
  },
  {
   "cell_type": "code",
   "execution_count": null,
   "metadata": {},
   "outputs": [],
   "source": [
    "for token in doc:\n",
    "    print(token.text, token.dep_, token.head.text, token.head.pos_,\n",
    "    \n",
    "            [child for child in token.children])"
   ]
  },
  {
   "cell_type": "code",
   "execution_count": null,
   "metadata": {},
   "outputs": [],
   "source": []
  }
 ],
 "metadata": {
  "interpreter": {
   "hash": "362d59c0cf6dbeab3abcbfc8685ab4c27b49db463d853836c10c4cab9bbbe211"
  },
  "kernelspec": {
   "display_name": "Python 3.8.12 ('askchatbot-dev')",
   "language": "python",
   "name": "python3"
  },
  "language_info": {
   "codemirror_mode": {
    "name": "ipython",
    "version": 3
   },
   "file_extension": ".py",
   "mimetype": "text/x-python",
   "name": "python",
   "nbconvert_exporter": "python",
   "pygments_lexer": "ipython3",
   "version": "3.8.13"
  },
  "orig_nbformat": 4
 },
 "nbformat": 4,
 "nbformat_minor": 2
}
