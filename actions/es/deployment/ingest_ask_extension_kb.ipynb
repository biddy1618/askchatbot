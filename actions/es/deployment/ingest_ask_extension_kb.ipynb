{
 "cells": [
  {
   "cell_type": "code",
   "execution_count": 1,
   "metadata": {},
   "outputs": [],
   "source": [
    "import os \n",
    "import json \n",
    "relative_path = '../data/askextension/2020-08-20/'\n",
    "paths = [f\"{relative_path}{fn}\"for fn in os.listdir(relative_path)]"
   ]
  },
  {
   "cell_type": "code",
   "execution_count": 2,
   "metadata": {},
   "outputs": [
    {
     "data": {
      "text/plain": [
       "['../data/askextension/2020-08-20/2012-2014.json',\n",
       " '../data/askextension/2020-08-20/2014-2016.json',\n",
       " '../data/askextension/2020-08-20/2016-2018.json',\n",
       " '../data/askextension/2020-08-20/2018-2020.json']"
      ]
     },
     "execution_count": 2,
     "metadata": {},
     "output_type": "execute_result"
    }
   ],
   "source": [
    "paths"
   ]
  },
  {
   "cell_type": "code",
   "execution_count": 3,
   "metadata": {},
   "outputs": [
    {
     "data": {
      "text/plain": [
       "{'faq-id': 1,\n",
       " 'title': 'When can I plant blue spruce trees in Colorado? #109900',\n",
       " 'created': '2012-12-03 15:53:47',\n",
       " 'updated': '2012-12-03 17:47:21',\n",
       " 'tags': ['trees and shrubs'],\n",
       " 'state': 'Colorado',\n",
       " 'county': 'El Paso County',\n",
       " 'question': 'I need to plant two blue spruce trees that are currently in 24\" diameter plastic containers with drain holes in the bottom sides.\\n\\nLocation: northeast side of Colorado Springs.\\n\\nThese trees are currently outside on the patio and susceptible to the wind and sun. The trees were watered this past Saturday and seem to be healthy.\\n\\nQuestion: Can these trees be planted now? Currently the soil is not frozen and night time temps are 35 to 40 degrees.\\n\\nI have downloaded and read CMG GardenNotes #633 as a reference.\\n\\nAny advice would be greatly appreciated. ',\n",
       " 'answer': {'1': {'response': 'Jerry, \\nyou can plant them now (a) OR temporarily \"plant\" them, still in containers, so that roots have some insulation from cold (b).\\n\\n(a) if you know where you want these trees to be planted (check for overhead utility lines AND for underground utility lines before digging by calling 8-1-1), dig holes 2-3X as wide as rootball and as deep as the rootball or slightly shallower.  To excavated soil, add organic matter (compost, shhagnum peat, etc) at 20% by volume.  Mix thoroughly to homogenize.    \\nInspect rootball for circling roots and tease them out of circling pattern if possible.   Plant tree so that top of rootball is at or a couple inches above grade.   Backfill with amended excavated soil.  Water well and add more soil where settling occurs.\\nMulch planting area with 2-3 inches of wood chips or similar mulch.   Water again to settle mulch.    Water again in a week and continue watering weekly until there is cold and snowcover.  Water again if weather warms, snowcover  melts and soils begin to dry out.\\n\\n(b) to \"store\" potted spruces temporarily in soil area (N or E exposure better than S or W), dig holes 1.5X as wide and same depth as rootball. Sink pots into holes and backfill.  Mulch surface of rootball in pot with straw or woodchips.   Water rootballs in pots and repeat whenever weather has been warm and there is no snowcover.   Plant spruces in permanent spot next April as per (a) above.',\n",
       "   'author': 'Robert Cox'}}}"
      ]
     },
     "execution_count": 3,
     "metadata": {},
     "output_type": "execute_result"
    }
   ],
   "source": [
    "## Viewing format:\n",
    "\n",
    "with open(paths[0], 'r', encoding='utf-8') as r:\n",
    "    sample = json.load(r)[0]\n",
    "sample"
   ]
  },
  {
   "cell_type": "code",
   "execution_count": 4,
   "metadata": {},
   "outputs": [],
   "source": [
    "from elasticsearch import Elasticsearch\n",
    "url = 'http://localhost:9200'\n",
    "url = 'https://dev.es.chat.ask.eduworks.com/'\n",
    "#url = 'https://qa.es.chat.ask.eduworks.com/'\n",
    "es = Elasticsearch([url], http_auth=('elastic', 'changeme'))"
   ]
  },
  {
   "cell_type": "code",
   "execution_count": 5,
   "metadata": {},
   "outputs": [
    {
     "data": {
      "text/plain": [
       "{'combined': {'mappings': {'dynamic': 'false',\n",
       "   'properties': {'damage': {'type': 'keyword',\n",
       "     'index': False,\n",
       "     'ignore_above': 32766},\n",
       "    'description': {'type': 'keyword', 'index': False, 'ignore_above': 32766},\n",
       "    'development': {'type': 'keyword', 'index': False, 'ignore_above': 32766},\n",
       "    'identification': {'type': 'keyword',\n",
       "     'index': False,\n",
       "     'ignore_above': 32766},\n",
       "    'links': {'type': 'nested',\n",
       "     'properties': {'link': {'type': 'keyword',\n",
       "       'index': False,\n",
       "       'ignore_above': 32766},\n",
       "      'src': {'type': 'keyword', 'index': False, 'ignore_above': 32766},\n",
       "      'title': {'type': 'keyword', 'index': False, 'ignore_above': 32766},\n",
       "      'type': {'type': 'keyword', 'index': False, 'ignore_above': 32766}}},\n",
       "    'management': {'type': 'keyword', 'index': False, 'ignore_above': 32766},\n",
       "    'source': {'type': 'keyword', 'ignore_above': 32766},\n",
       "    'title': {'type': 'keyword', 'index': False, 'ignore_above': 32766},\n",
       "    'url': {'type': 'keyword', 'index': False, 'ignore_above': 32766},\n",
       "    'vectors': {'type': 'nested',\n",
       "     'properties': {'end': {'type': 'integer'},\n",
       "      'name': {'type': 'keyword', 'index': False, 'ignore_above': 32766},\n",
       "      'start': {'type': 'integer'},\n",
       "      'vector': {'type': 'dense_vector', 'dims': 768}}}}}}}"
      ]
     },
     "execution_count": 5,
     "metadata": {},
     "output_type": "execute_result"
    }
   ],
   "source": [
    "es.indices.get_mapping(index='combined')"
   ]
  },
  {
   "cell_type": "code",
   "execution_count": 6,
   "metadata": {},
   "outputs": [
    {
     "data": {
      "text/plain": [
       "['.geoip_databases', 'combined', 'logs']"
      ]
     },
     "execution_count": 6,
     "metadata": {},
     "output_type": "execute_result"
    }
   ],
   "source": [
    "es.cat.indices(h='index', s='index').split()"
   ]
  },
  {
   "cell_type": "code",
   "execution_count": 7,
   "metadata": {},
   "outputs": [
    {
     "name": "stderr",
     "output_type": "stream",
     "text": [
      "  0%|          | 0/4 [00:00<?, ?it/s]C:\\Users\\imjef\\AppData\\Local\\Temp\\ipykernel_5680\\4065793934.py:11: DeprecationWarning: The 'body' parameter is deprecated for the 'index' API and will be removed in a future version. Instead use the 'document' parameter. See https://github.com/elastic/elasticsearch-py/issues/1698 for more information\n",
      "  res = es.index(index='ask_extension_kb', body=item)\n",
      " 75%|███████▌  | 3/4 [1:24:24<31:36, 1896.79s/it]"
     ]
    }
   ],
   "source": [
    "from tqdm import tqdm\n",
    "from datetime import datetime\n",
    "\n",
    "def ingest_ask_data():\n",
    "    for path in tqdm(paths): \n",
    "        with open(path, 'r', encoding='utf-8') as r:\n",
    "            kb_data = json.load(r)\n",
    "        for item in tqdm(kb_data): \n",
    "            item['created_timestamp'] = datetime.strptime(item['created'].split()[0], '%Y-%m-%d').timestamp()\n",
    "            item['updated_timestamp'] = datetime.strptime(item['created'].split()[0], '%Y-%m-%d').timestamp()\n",
    "            res = es.index(index='ask_extension_kb', body=item)\n",
    "ingest_ask_data()"
   ]
  },
  {
   "cell_type": "code",
   "execution_count": null,
   "metadata": {},
   "outputs": [],
   "source": [
    "es.indices.get_mapping(index='ask_extension_kb')"
   ]
  },
  {
   "cell_type": "code",
   "execution_count": null,
   "metadata": {},
   "outputs": [],
   "source": [
    "query = {\n",
    "    'aggs': {\n",
    "        'last_updated':{\n",
    "            'max': {\n",
    "                'field': 'created_timestamp'\n",
    "            }\n",
    "        }\n",
    "    }\n",
    "}"
   ]
  },
  {
   "cell_type": "code",
   "execution_count": null,
   "metadata": {},
   "outputs": [],
   "source": [
    "es.search(index='ask_extension_kb', body=query, size=0)['aggregations']['last_updated']['value']"
   ]
  }
 ],
 "metadata": {
  "kernelspec": {
   "display_name": "Python 3.8.13 ('chatbot')",
   "language": "python",
   "name": "python3"
  },
  "language_info": {
   "codemirror_mode": {
    "name": "ipython",
    "version": 3
   },
   "file_extension": ".py",
   "mimetype": "text/x-python",
   "name": "python",
   "nbconvert_exporter": "python",
   "pygments_lexer": "ipython3",
   "version": "3.8.13"
  },
  "orig_nbformat": 4,
  "vscode": {
   "interpreter": {
    "hash": "76d7d06ae05cbb761474f87317b7207eb7a118999aafdda2cd7026bd3bdefe80"
   }
  }
 },
 "nbformat": 4,
 "nbformat_minor": 2
}
