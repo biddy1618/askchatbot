{
 "cells": [
  {
   "cell_type": "markdown",
   "metadata": {},
   "source": [
    "# Logging of chats to ES"
   ]
  },
  {
   "cell_type": "markdown",
   "metadata": {},
   "source": [
    "## Creating index"
   ]
  },
  {
   "cell_type": "code",
   "execution_count": null,
   "metadata": {},
   "outputs": [],
   "source": [
    "import sys\n",
    "import os\n",
    "\n",
    "sys.path.insert(1, os.path.realpath(os.path.pardir))\n",
    "\n",
    "os.environ['STAGE'          ] = 'dev'\n",
    "os.environ['ES_USERNAME'    ] = 'elastic'\n",
    "os.environ['ES_PASSWORD'    ] = 'changeme'\n",
    "os.environ['TF_CACHE_DIR'   ] = '/var/tmp/models'\n",
    "## select the environment for ingestion\n",
    "os.environ['ES_HOST'    ] = 'http://localhost:9200/'\n",
    "# os.environ['ES_HOST'    ] = 'https://dev.es.chat.ask.eduworks.com/'\n",
    "# os.environ['ES_HOST'    ] = 'https://qa.es.chat.ask.eduworks.com/'\n",
    "\n",
    "import config"
   ]
  },
  {
   "cell_type": "code",
   "execution_count": null,
   "metadata": {},
   "outputs": [],
   "source": [
    "import importlib\n",
    "importlib.reload(config)"
   ]
  },
  {
   "cell_type": "code",
   "execution_count": null,
   "metadata": {},
   "outputs": [],
   "source": [
    "pipeline_id = \"transform_id\"\n",
    "mapping  = {\n",
    "    \"pipeline\": {\n",
    "        \"id\"    : pipeline_id,\n",
    "        \"body\"  : {\n",
    "            \"description\"   : \"Replace the _id with chat_id for the logs index\",\n",
    "            \"processors\"    : [{\n",
    "                \"set\": {\n",
    "                    \"field\": \"_id\",\n",
    "                    \"value\": \"{{chat_id}}\"\n",
    "                }\n",
    "            }]\n",
    "        }\n",
    "    },\n",
    "    \"settings\": {\n",
    "        \"number_of_shards\"  : 2, \n",
    "        \"number_of_replicas\": 1,\n",
    "        \"default_pipeline\"  : pipeline_id\n",
    "    },\n",
    "    \"mappings\": {\n",
    "        \"dynamic\"   : \"false\",\n",
    "        \"_source\"   : {\"enabled\": \"true\"},\n",
    "        \"properties\": {\n",
    "            \"chat_id\"       : {\"type\": \"keyword\", \"index\": \"true\", \"doc_values\": \"false\", \"ignore_above\": 256},\n",
    "            \"timestamp\"     : {\"type\": \"date\"   , \"index\": \"true\", \"doc_values\": \"true\"},\n",
    "            \"chat_history\"  : {\n",
    "                \"dynamic\"       : \"false\",\n",
    "                \"type\"          : \"nested\",\n",
    "                \"properties\"    : {\n",
    "                    \"agent\"     : {\"type\": \"keyword\"        , \"index\": \"false\", \"doc_values\": \"false\", \"ignore_above\": 256  },\n",
    "                    \"timestamp\" : {\"type\": \"date\"           , \"index\": \"false\", \"doc_values\": \"false\"                       },\n",
    "                    \"text\"      : {\"type\": \"match_only_text\"                                                                },\n",
    "                    \"intent\"    : {\"type\": \"keyword\"        , \"index\": \"false\", \"doc_values\": \"false\", \"ignore_above\": 256  },\n",
    "                    \"results\"   : {\n",
    "                        \"dynamic\"   : \"false\",\n",
    "                        \"type\"      : \"nested\",\n",
    "                        \"properties\": {\n",
    "                            \"score\"     : {\"type\": \"keyword\"        , \"index\": \"false\", \"doc_values\": \"false\", \"ignore_above\": 256  },\n",
    "                            \"url\"       : {\"type\": \"keyword\"        , \"index\": \"false\", \"doc_values\": \"false\", \"ignore_above\": 256  }\n",
    "                        }\n",
    "                    }\n",
    "                }\n",
    "            }\n",
    "        }\n",
    "    }\n",
    "}"
   ]
  },
  {
   "cell_type": "code",
   "execution_count": null,
   "metadata": {},
   "outputs": [],
   "source": [
    "from elasticsearch import Elasticsearch, RequestError\n",
    "from elasticsearch.client import IngestClient\n",
    "\n",
    "\n",
    "# increase the timeout if necessary\n",
    "es_client = Elasticsearch([config.es_host], http_auth=(config.es_username, config.es_password), timeout = 20)\n",
    "es_ingest = IngestClient(es_client)\n",
    "\n",
    "# create pipeline for replacing _id with chat_id\n",
    "es_ingest.put_pipeline(\n",
    "    id   = mapping['pipeline']['id'     ],\n",
    "    body = mapping['pipeline']['body'   ])\n",
    "\n",
    "# create index\n",
    "es_client.indices.delete(\n",
    "    index   = config.es_logging_index, \n",
    "    ignore  = 404)\n",
    "es_client.indices.create(\n",
    "    index       = config.es_logging_index   , \n",
    "    settings    = mapping['settings']       , \n",
    "    mappings    = mapping['mappings']       )\n",
    "\n",
    "es_client.indices.refresh()"
   ]
  }
 ],
 "metadata": {
  "kernelspec": {
   "display_name": "Python 3.9.12 ('askchatbot-dev')",
   "language": "python",
   "name": "python3"
  },
  "language_info": {
   "name": "python",
   "version": "3.9.12"
  },
  "orig_nbformat": 4,
  "vscode": {
   "interpreter": {
    "hash": "362d59c0cf6dbeab3abcbfc8685ab4c27b49db463d853836c10c4cab9bbbe211"
   }
  }
 },
 "nbformat": 4,
 "nbformat_minor": 2
}
